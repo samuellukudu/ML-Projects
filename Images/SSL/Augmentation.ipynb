{
 "cells": [
  {
   "cell_type": "markdown",
   "id": "8ac6cf41-6ad6-4c2b-9e6c-fa60f7acef7e",
   "metadata": {},
   "source": [
    "# AUGMENTATION"
   ]
  },
  {
   "cell_type": "code",
   "execution_count": 1,
   "id": "3f15a7a6-0bd5-4856-a628-c3909f95f995",
   "metadata": {},
   "outputs": [],
   "source": [
    "!pip install -qq albumentations"
   ]
  },
  {
   "cell_type": "code",
   "execution_count": 3,
   "id": "b61efb6b-1a2e-4257-86b2-a714b67b36db",
   "metadata": {},
   "outputs": [],
   "source": [
    "import albumentations as A\n",
    "# from albumentations import ToTensor\n",
    "import torch\n",
    "from torchvision import datasets, transforms\n",
    "\n",
    "# Define the data augmentation pipeline\n",
    "transformations = A.Compose([\n",
    "    A.RandomCrop(height=256, width=256, p=1.0),\n",
    "    A.RandomRotate90(p=1.0),\n",
    "    A.Flip(p=0.5),\n",
    "    A.Transpose(p=0.5),\n",
    "    # A.MixUp(alpha=1.0, p=0.5),\n",
    "    # A.Cutout(num_holes=8, max_h_size=64, max_w_size=64, p=0.5),\n",
    "    # A.CoarseDropout(num_holes=8, max_h_size=64, max_w_size=64, p=0.5),\n",
    "    A.ElasticTransform(alpha=120, sigma=120 * 0.05, alpha_affine=120 * 0.03, p=0.5),\n",
    "    A.OpticalDistortion(distort_limit=0.2, shift_limit=0.5, p=0.5),\n",
    "    A.Resize(height=256, width=256, p=1.0),\n",
    "    A.Normalize(mean=(0.485, 0.456, 0.406), std=(0.229, 0.224, 0.225), max_pixel_value=255.0, p=1.0),\n",
    "    transforms.ToTensor()\n",
    "    # ToTensor()\n",
    "])\n",
    "\n",
    "# # Apply the data augmentation pipeline to a dataset\n",
    "# dataset = torch.utils.data.TensorDataset(...)\n",
    "# dataloader = torch.utils.data.DataLoader(dataset, batch_size=32, shuffle=True, num_workers=4, drop_last=True)\n",
    "# for images, labels in dataloader:\n",
    "#     augmented_data = transformations(image=images, mask=masks)\n",
    "#     images, masks = augmented_data['image'], augmented_data['mask']\n",
    "#     # use the augmented data here"
   ]
  },
  {
   "cell_type": "markdown",
   "id": "e5033f4c-f834-4e30-ab9a-7cac5a9056b5",
   "metadata": {},
   "source": [
    "In the above code, we first define the data augmentation pipeline using the albumentations.Compose function, which applies a list of data augmentation transforms in the order they are passed.\n",
    "\n",
    "In the pipeline we have applied various data augmentation techniques like RandomCrop, RandomRotate90, Flip, Transpose, Mixup, Cutout, ElasticTransform, OpticalDistortion and Resize.\n",
    "\n",
    "Then we apply the pipeline to the dataset using a PyTorch DataLoader, which allows us to easily process the dataset in batches.\n",
    "\n",
    "Note that you may need to adjust the parameters of the data augmentation functions to suit your specific use case.\n",
    "\n",
    "Also, you can also play with other data augmentation techniques such as random_brightness, random_contrast, random_saturation, etc."
   ]
  },
  {
   "cell_type": "code",
   "execution_count": 4,
   "id": "b8e91a2b-6a59-407c-b402-86a36df8e438",
   "metadata": {},
   "outputs": [],
   "source": [
    "import torchvision\n",
    "transforms = torchvision.transforms.Compose([\n",
    "    torchvision.transforms.RandomHorizontalFlip(),\n",
    "    torchvision.transforms.RandomRotation(degrees=20),\n",
    "    torchvision.transforms.RandomResizedCrop(size=(128, 128), scale=(0.8, 1.0), ratio=(0.8, 1.2)),\n",
    "    torchvision.transforms.RandomGrayscale(p=0.2)\n",
    "])"
   ]
  },
  {
   "cell_type": "markdown",
   "id": "b8b4fba1-e7ff-4488-9455-de957b2941e2",
   "metadata": {},
   "source": [
    "It is important to note that when working with Satellite images, it is important to understand the specifics of the images and make sure that the augmentation techniques applied make sense in the context of the task at hand and the data you are working with.\n",
    "\n",
    "Yes, there are a number of data augmentation techniques that can be used for images taken by satellites, such as:\n",
    "\n",
    "Random horizontal flipping\n",
    "Random vertical flipping\n",
    "Random rotation\n",
    "Random zoom\n",
    "Random brightness and contrast adjustments\n",
    "Here's an example of how you can use PyTorch's built-in torchvision.transforms module to apply these data augmentation techniques to a batch of satellite images:"
   ]
  },
  {
   "cell_type": "code",
   "execution_count": 6,
   "id": "d15faaed-0d40-4a38-9352-11ab99b3708f",
   "metadata": {},
   "outputs": [],
   "source": [
    "import torchvision.transforms as transforms\n",
    "\n",
    "# Define the data augmentation transforms\n",
    "data_transforms = transforms.Compose([\n",
    "    transforms.RandomHorizontalFlip(),\n",
    "    transforms.RandomVerticalFlip(),\n",
    "    transforms.RandomRotation(degrees=45),\n",
    "    transforms.RandomAffine(degrees=45, translate=(0.1, 0.1)),\n",
    "    transforms.RandomResizedCrop(size=64, scale=(0.8, 1.0)),\n",
    "    transforms.RandomGrayscale(p=0.2),\n",
    "    # transforms.RandomBrightnessContrast(brightness_limit=0.2, contrast_limit=0.2)\n",
    "])\n",
    "\n",
    "# Apply the data augmentation transforms to a batch of satellite images\n",
    "# images, _ = next(iter(train_loader))\n",
    "# augmented_images = data_transforms(images)"
   ]
  },
  {
   "cell_type": "code",
   "execution_count": null,
   "id": "54de8ed2-09b7-4ff0-9482-2b32006dfe6e",
   "metadata": {},
   "outputs": [],
   "source": []
  }
 ],
 "metadata": {
  "kernelspec": {
   "display_name": "default:Python",
   "language": "python",
   "name": "conda-env-default-py"
  },
  "language_info": {
   "codemirror_mode": {
    "name": "ipython",
    "version": 3
   },
   "file_extension": ".py",
   "mimetype": "text/x-python",
   "name": "python",
   "nbconvert_exporter": "python",
   "pygments_lexer": "ipython3",
   "version": "3.9.9"
  }
 },
 "nbformat": 4,
 "nbformat_minor": 5
}
