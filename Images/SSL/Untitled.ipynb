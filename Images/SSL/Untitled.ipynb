{
 "cells": [
  {
   "cell_type": "markdown",
   "id": "c8d5db43-373b-4e90-b0f8-8d8f11eaeb4f",
   "metadata": {},
   "source": [
    "# FastAI for Pytorch users\n",
    "\n",
    "Using ```PyTorch Dataloader, Model and Optimizer``` and ```FastAI``` for training"
   ]
  },
  {
   "cell_type": "code",
   "execution_count": 2,
   "id": "76830c14-d21a-4f69-9b8c-7cc9d00b0de4",
   "metadata": {},
   "outputs": [],
   "source": [
    "import torch, torchvision\n",
    "from torchvision import datasets, transforms\n",
    "from torch.utils.data import DataLoader"
   ]
  },
  {
   "cell_type": "code",
   "execution_count": null,
   "id": "565e0fb7-ffee-487d-aea0-3a1be7f69872",
   "metadata": {},
   "outputs": [],
   "source": []
  }
 ],
 "metadata": {
  "kernelspec": {
   "display_name": "default:Python",
   "language": "python",
   "name": "conda-env-default-py"
  },
  "language_info": {
   "codemirror_mode": {
    "name": "ipython",
    "version": 3
   },
   "file_extension": ".py",
   "mimetype": "text/x-python",
   "name": "python",
   "nbconvert_exporter": "python",
   "pygments_lexer": "ipython3",
   "version": "3.9.9"
  }
 },
 "nbformat": 4,
 "nbformat_minor": 5
}
