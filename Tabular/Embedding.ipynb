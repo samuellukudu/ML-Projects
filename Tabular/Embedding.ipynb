{
 "cells": [
  {
   "cell_type": "code",
   "execution_count": 3,
   "id": "c7219b89-f2fc-45e1-9232-84a5ae90bc70",
   "metadata": {},
   "outputs": [
    {
     "name": "stdout",
     "output_type": "stream",
     "text": [
      "Using embedding:  0.941\n",
      "Original:  0.989\n"
     ]
    }
   ],
   "source": [
    "import numpy as np\n",
    "import torch\n",
    "import torch.nn as nn\n",
    "from torch.optim import Adam\n",
    "from torch.utils.data import DataLoader\n",
    "from sklearn.ensemble import GradientBoostingClassifier\n",
    "from sklearn.metrics import accuracy_score\n",
    "from sklearn.datasets import make_classification\n",
    "\n",
    "np.random.seed(42)\n",
    "\n",
    "# Create a toy dataset\n",
    "X, y = make_classification(n_samples=1000, n_features=20, n_classes=2)\n",
    "X = torch.from_numpy(X).float()\n",
    "y = torch.from_numpy(y).long()\n",
    "\n",
    "# Define the neural network\n",
    "class EmbeddingNet(nn.Module):\n",
    "    def __init__(self):\n",
    "        super(EmbeddingNet, self).__init__()\n",
    "        self.fc1 = nn.Linear(20, 50)\n",
    "        self.fc2 = nn.Linear(50, 100)\n",
    "        self.fc3 = nn.Linear(100, 100)\n",
    "        self.fc4 = nn.Linear(100, 100)\n",
    "        self.fc5 = nn.Linear(100, 50)\n",
    "        self.fc6 = nn.Linear(50, 50)\n",
    "        self.fc7 = nn.Linear(50, 20)\n",
    "        self.fc8 = nn.Linear(20, 20)\n",
    "        self.fc9 = nn.Linear(20, 20)\n",
    "\n",
    "    def forward(self, x):\n",
    "        x = self.fc1(x)\n",
    "        x = self.fc2(x)\n",
    "        x = self.fc3(x)\n",
    "        x = self.fc4(x)\n",
    "        x = self.fc5(x)\n",
    "        x = self.fc6(x)\n",
    "        x = self.fc7(x)\n",
    "        x = self.fc8(x)\n",
    "        x = self.fc9(x)\n",
    "        return x\n",
    "\n",
    "# Initialize the model, loss function, and optimizer\n",
    "model = EmbeddingNet()\n",
    "criterion = nn.CrossEntropyLoss()\n",
    "optimizer = Adam(model.parameters())\n",
    "\n",
    "# Create a data loader for the dataset\n",
    "data_loader = DataLoader(list(zip(X, y)), batch_size=64, shuffle=True)\n",
    "\n",
    "# Train the model\n",
    "for epoch in range(10):\n",
    "    for data, label in data_loader:\n",
    "        optimizer.zero_grad()\n",
    "        output = model(data)\n",
    "        loss = criterion(output, label)\n",
    "        loss.backward()\n",
    "        optimizer.step()\n",
    "\n",
    "# Extract the embeddings from the trained model\n",
    "embeddings = model(X).detach().numpy()\n",
    "\n",
    "# Train a gradient boosting machine on the embeddings\n",
    "gbm = GradientBoostingClassifier()\n",
    "gbm.fit(embeddings, y)\n",
    "\n",
    "# Evaluate the performance of the gradient boosting machine\n",
    "y_pred = gbm.predict(embeddings)\n",
    "print(\"Using embedding: \", accuracy_score(y, y_pred))\n",
    "\n",
    "\n",
    "X, y = make_classification(n_samples=1000, n_features=20, n_classes=2)\n",
    "gbm = GradientBoostingClassifier()\n",
    "gbm.fit(X, y)\n",
    "\n",
    "y_pred = gbm.predict(X)\n",
    "print(\"Original: \", accuracy_score(y, y_pred))"
   ]
  },
  {
   "cell_type": "code",
   "execution_count": null,
   "id": "e7ca6fd4-ef0d-4516-a1d4-bb0f8e68334f",
   "metadata": {},
   "outputs": [],
   "source": []
  }
 ],
 "metadata": {
  "kernelspec": {
   "display_name": "default:Python",
   "language": "python",
   "name": "conda-env-default-py"
  },
  "language_info": {
   "codemirror_mode": {
    "name": "ipython",
    "version": 3
   },
   "file_extension": ".py",
   "mimetype": "text/x-python",
   "name": "python",
   "nbconvert_exporter": "python",
   "pygments_lexer": "ipython3",
   "version": "3.9.9"
  }
 },
 "nbformat": 4,
 "nbformat_minor": 5
}
